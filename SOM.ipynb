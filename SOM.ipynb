{
  "cells": [
    {
      "cell_type": "markdown",
      "metadata": {
        "colab_type": "text",
        "id": "t9oX7AL3nyLm"
      },
      "source": [
        "# Self Organizing Map"
      ]
    },
    {
      "cell_type": "markdown",
      "metadata": {
        "colab_type": "text",
        "id": "r9maNhdd65pB"
      },
      "source": [
        "##Install MiniSom Package"
      ]
    },
    {
      "cell_type": "code",
      "execution_count": 1,
      "metadata": {
        "colab": {
          "base_uri": "https://localhost:8080/",
          "height": 34
        },
        "colab_type": "code",
        "id": "1KB28WUso0Bj",
        "outputId": "e8fb3cdd-73e2-49c2-9976-25be1b37e9e6"
      },
      "outputs": [
        {
          "name": "stdout",
          "output_type": "stream",
          "text": [
            "Collecting MiniSom\n",
            "  Downloading MiniSom-2.3.2.tar.gz (10 kB)\n",
            "  Preparing metadata (setup.py): started\n",
            "  Preparing metadata (setup.py): finished with status 'done'\n",
            "Building wheels for collected packages: MiniSom\n",
            "  Building wheel for MiniSom (setup.py): started\n",
            "  Building wheel for MiniSom (setup.py): finished with status 'done'\n",
            "  Created wheel for MiniSom: filename=MiniSom-2.3.2-py3-none-any.whl size=10663 sha256=0ee1c3ea54921683250556fc18b689e778fc696e40376d7f6d37edf6e7cc33f4\n",
            "  Stored in directory: c:\\users\\xobed\\appdata\\local\\pip\\cache\\wheels\\b4\\f6\\8a\\9daf8831901c3e3805775633404248f10663d1c80b7e5a1314\n",
            "Successfully built MiniSom\n",
            "Installing collected packages: MiniSom\n",
            "Successfully installed MiniSom-2.3.2\n"
          ]
        },
        {
          "name": "stderr",
          "output_type": "stream",
          "text": [
            "WARNING: Ignoring invalid distribution -treamlit (c:\\users\\xobed\\appdata\\local\\programs\\python\\python310\\lib\\site-packages)\n",
            "WARNING: Ignoring invalid distribution -treamlit (c:\\users\\xobed\\appdata\\local\\programs\\python\\python310\\lib\\site-packages)\n"
          ]
        }
      ],
      "source": [
        "!pip install MiniSom"
      ]
    },
    {
      "cell_type": "markdown",
      "metadata": {
        "colab_type": "text",
        "id": "6AX0Y23PnyOI"
      },
      "source": [
        "### Importing the libraries\n"
      ]
    },
    {
      "cell_type": "code",
      "execution_count": 2,
      "metadata": {
        "colab": {},
        "colab_type": "code",
        "id": "gaSkOFKKBB3b"
      },
      "outputs": [],
      "source": [
        "import numpy as np\n",
        "import pandas as pd\n",
        "import matplotlib.pyplot as plt"
      ]
    },
    {
      "cell_type": "markdown",
      "metadata": {},
      "source": [
        "### The goal here is to detect fraud in credit card applications"
      ]
    },
    {
      "cell_type": "markdown",
      "metadata": {
        "colab_type": "text",
        "id": "SCl7ERn_n539"
      },
      "source": [
        "## Importing the dataset"
      ]
    },
    {
      "cell_type": "code",
      "execution_count": 3,
      "metadata": {
        "colab": {},
        "colab_type": "code",
        "id": "4hgeaN3CoRfl"
      },
      "outputs": [],
      "source": [
        "dataset = pd.read_csv('Credit_Card_Applications.csv')\n"
      ]
    },
    {
      "cell_type": "code",
      "execution_count": 4,
      "metadata": {},
      "outputs": [
        {
          "data": {
            "text/html": [
              "<div>\n",
              "<style scoped>\n",
              "    .dataframe tbody tr th:only-of-type {\n",
              "        vertical-align: middle;\n",
              "    }\n",
              "\n",
              "    .dataframe tbody tr th {\n",
              "        vertical-align: top;\n",
              "    }\n",
              "\n",
              "    .dataframe thead th {\n",
              "        text-align: right;\n",
              "    }\n",
              "</style>\n",
              "<table border=\"1\" class=\"dataframe\">\n",
              "  <thead>\n",
              "    <tr style=\"text-align: right;\">\n",
              "      <th></th>\n",
              "      <th>CustomerID</th>\n",
              "      <th>A1</th>\n",
              "      <th>A2</th>\n",
              "      <th>A3</th>\n",
              "      <th>A4</th>\n",
              "      <th>A5</th>\n",
              "      <th>A6</th>\n",
              "      <th>A7</th>\n",
              "      <th>A8</th>\n",
              "      <th>A9</th>\n",
              "      <th>A10</th>\n",
              "      <th>A11</th>\n",
              "      <th>A12</th>\n",
              "      <th>A13</th>\n",
              "      <th>A14</th>\n",
              "      <th>Class</th>\n",
              "    </tr>\n",
              "  </thead>\n",
              "  <tbody>\n",
              "    <tr>\n",
              "      <th>0</th>\n",
              "      <td>15776156</td>\n",
              "      <td>1</td>\n",
              "      <td>22.08</td>\n",
              "      <td>11.460</td>\n",
              "      <td>2</td>\n",
              "      <td>4</td>\n",
              "      <td>4</td>\n",
              "      <td>1.585</td>\n",
              "      <td>0</td>\n",
              "      <td>0</td>\n",
              "      <td>0</td>\n",
              "      <td>1</td>\n",
              "      <td>2</td>\n",
              "      <td>100</td>\n",
              "      <td>1213</td>\n",
              "      <td>0</td>\n",
              "    </tr>\n",
              "    <tr>\n",
              "      <th>1</th>\n",
              "      <td>15739548</td>\n",
              "      <td>0</td>\n",
              "      <td>22.67</td>\n",
              "      <td>7.000</td>\n",
              "      <td>2</td>\n",
              "      <td>8</td>\n",
              "      <td>4</td>\n",
              "      <td>0.165</td>\n",
              "      <td>0</td>\n",
              "      <td>0</td>\n",
              "      <td>0</td>\n",
              "      <td>0</td>\n",
              "      <td>2</td>\n",
              "      <td>160</td>\n",
              "      <td>1</td>\n",
              "      <td>0</td>\n",
              "    </tr>\n",
              "    <tr>\n",
              "      <th>2</th>\n",
              "      <td>15662854</td>\n",
              "      <td>0</td>\n",
              "      <td>29.58</td>\n",
              "      <td>1.750</td>\n",
              "      <td>1</td>\n",
              "      <td>4</td>\n",
              "      <td>4</td>\n",
              "      <td>1.250</td>\n",
              "      <td>0</td>\n",
              "      <td>0</td>\n",
              "      <td>0</td>\n",
              "      <td>1</td>\n",
              "      <td>2</td>\n",
              "      <td>280</td>\n",
              "      <td>1</td>\n",
              "      <td>0</td>\n",
              "    </tr>\n",
              "    <tr>\n",
              "      <th>3</th>\n",
              "      <td>15687688</td>\n",
              "      <td>0</td>\n",
              "      <td>21.67</td>\n",
              "      <td>11.500</td>\n",
              "      <td>1</td>\n",
              "      <td>5</td>\n",
              "      <td>3</td>\n",
              "      <td>0.000</td>\n",
              "      <td>1</td>\n",
              "      <td>1</td>\n",
              "      <td>11</td>\n",
              "      <td>1</td>\n",
              "      <td>2</td>\n",
              "      <td>0</td>\n",
              "      <td>1</td>\n",
              "      <td>1</td>\n",
              "    </tr>\n",
              "    <tr>\n",
              "      <th>4</th>\n",
              "      <td>15715750</td>\n",
              "      <td>1</td>\n",
              "      <td>20.17</td>\n",
              "      <td>8.170</td>\n",
              "      <td>2</td>\n",
              "      <td>6</td>\n",
              "      <td>4</td>\n",
              "      <td>1.960</td>\n",
              "      <td>1</td>\n",
              "      <td>1</td>\n",
              "      <td>14</td>\n",
              "      <td>0</td>\n",
              "      <td>2</td>\n",
              "      <td>60</td>\n",
              "      <td>159</td>\n",
              "      <td>1</td>\n",
              "    </tr>\n",
              "    <tr>\n",
              "      <th>...</th>\n",
              "      <td>...</td>\n",
              "      <td>...</td>\n",
              "      <td>...</td>\n",
              "      <td>...</td>\n",
              "      <td>...</td>\n",
              "      <td>...</td>\n",
              "      <td>...</td>\n",
              "      <td>...</td>\n",
              "      <td>...</td>\n",
              "      <td>...</td>\n",
              "      <td>...</td>\n",
              "      <td>...</td>\n",
              "      <td>...</td>\n",
              "      <td>...</td>\n",
              "      <td>...</td>\n",
              "      <td>...</td>\n",
              "    </tr>\n",
              "    <tr>\n",
              "      <th>685</th>\n",
              "      <td>15808223</td>\n",
              "      <td>1</td>\n",
              "      <td>31.57</td>\n",
              "      <td>10.500</td>\n",
              "      <td>2</td>\n",
              "      <td>14</td>\n",
              "      <td>4</td>\n",
              "      <td>6.500</td>\n",
              "      <td>1</td>\n",
              "      <td>0</td>\n",
              "      <td>0</td>\n",
              "      <td>0</td>\n",
              "      <td>2</td>\n",
              "      <td>0</td>\n",
              "      <td>1</td>\n",
              "      <td>1</td>\n",
              "    </tr>\n",
              "    <tr>\n",
              "      <th>686</th>\n",
              "      <td>15769980</td>\n",
              "      <td>1</td>\n",
              "      <td>20.67</td>\n",
              "      <td>0.415</td>\n",
              "      <td>2</td>\n",
              "      <td>8</td>\n",
              "      <td>4</td>\n",
              "      <td>0.125</td>\n",
              "      <td>0</td>\n",
              "      <td>0</td>\n",
              "      <td>0</td>\n",
              "      <td>0</td>\n",
              "      <td>2</td>\n",
              "      <td>0</td>\n",
              "      <td>45</td>\n",
              "      <td>0</td>\n",
              "    </tr>\n",
              "    <tr>\n",
              "      <th>687</th>\n",
              "      <td>15675450</td>\n",
              "      <td>0</td>\n",
              "      <td>18.83</td>\n",
              "      <td>9.540</td>\n",
              "      <td>2</td>\n",
              "      <td>6</td>\n",
              "      <td>4</td>\n",
              "      <td>0.085</td>\n",
              "      <td>1</td>\n",
              "      <td>0</td>\n",
              "      <td>0</td>\n",
              "      <td>0</td>\n",
              "      <td>2</td>\n",
              "      <td>100</td>\n",
              "      <td>1</td>\n",
              "      <td>1</td>\n",
              "    </tr>\n",
              "    <tr>\n",
              "      <th>688</th>\n",
              "      <td>15776494</td>\n",
              "      <td>0</td>\n",
              "      <td>27.42</td>\n",
              "      <td>14.500</td>\n",
              "      <td>2</td>\n",
              "      <td>14</td>\n",
              "      <td>8</td>\n",
              "      <td>3.085</td>\n",
              "      <td>1</td>\n",
              "      <td>1</td>\n",
              "      <td>1</td>\n",
              "      <td>0</td>\n",
              "      <td>2</td>\n",
              "      <td>120</td>\n",
              "      <td>12</td>\n",
              "      <td>1</td>\n",
              "    </tr>\n",
              "    <tr>\n",
              "      <th>689</th>\n",
              "      <td>15592412</td>\n",
              "      <td>1</td>\n",
              "      <td>41.00</td>\n",
              "      <td>0.040</td>\n",
              "      <td>2</td>\n",
              "      <td>10</td>\n",
              "      <td>4</td>\n",
              "      <td>0.040</td>\n",
              "      <td>0</td>\n",
              "      <td>1</td>\n",
              "      <td>1</td>\n",
              "      <td>0</td>\n",
              "      <td>1</td>\n",
              "      <td>560</td>\n",
              "      <td>1</td>\n",
              "      <td>1</td>\n",
              "    </tr>\n",
              "  </tbody>\n",
              "</table>\n",
              "<p>690 rows × 16 columns</p>\n",
              "</div>"
            ],
            "text/plain": [
              "     CustomerID  A1     A2      A3  A4  A5  A6     A7  A8  A9  A10  A11  A12  \\\n",
              "0      15776156   1  22.08  11.460   2   4   4  1.585   0   0    0    1    2   \n",
              "1      15739548   0  22.67   7.000   2   8   4  0.165   0   0    0    0    2   \n",
              "2      15662854   0  29.58   1.750   1   4   4  1.250   0   0    0    1    2   \n",
              "3      15687688   0  21.67  11.500   1   5   3  0.000   1   1   11    1    2   \n",
              "4      15715750   1  20.17   8.170   2   6   4  1.960   1   1   14    0    2   \n",
              "..          ...  ..    ...     ...  ..  ..  ..    ...  ..  ..  ...  ...  ...   \n",
              "685    15808223   1  31.57  10.500   2  14   4  6.500   1   0    0    0    2   \n",
              "686    15769980   1  20.67   0.415   2   8   4  0.125   0   0    0    0    2   \n",
              "687    15675450   0  18.83   9.540   2   6   4  0.085   1   0    0    0    2   \n",
              "688    15776494   0  27.42  14.500   2  14   8  3.085   1   1    1    0    2   \n",
              "689    15592412   1  41.00   0.040   2  10   4  0.040   0   1    1    0    1   \n",
              "\n",
              "     A13   A14  Class  \n",
              "0    100  1213      0  \n",
              "1    160     1      0  \n",
              "2    280     1      0  \n",
              "3      0     1      1  \n",
              "4     60   159      1  \n",
              "..   ...   ...    ...  \n",
              "685    0     1      1  \n",
              "686    0    45      0  \n",
              "687  100     1      1  \n",
              "688  120    12      1  \n",
              "689  560     1      1  \n",
              "\n",
              "[690 rows x 16 columns]"
            ]
          },
          "execution_count": 4,
          "metadata": {},
          "output_type": "execute_result"
        }
      ],
      "source": [
        "dataset"
      ]
    },
    {
      "cell_type": "code",
      "execution_count": 5,
      "metadata": {},
      "outputs": [],
      "source": [
        "X = dataset.iloc[:, :-1].values \n",
        "y = dataset.iloc[:, -1].values"
      ]
    },
    {
      "cell_type": "code",
      "execution_count": 7,
      "metadata": {},
      "outputs": [
        {
          "data": {
            "text/plain": [
              "array([[1.5776156e+07, 1.0000000e+00, 2.2080000e+01, ..., 2.0000000e+00,\n",
              "        1.0000000e+02, 1.2130000e+03],\n",
              "       [1.5739548e+07, 0.0000000e+00, 2.2670000e+01, ..., 2.0000000e+00,\n",
              "        1.6000000e+02, 1.0000000e+00],\n",
              "       [1.5662854e+07, 0.0000000e+00, 2.9580000e+01, ..., 2.0000000e+00,\n",
              "        2.8000000e+02, 1.0000000e+00],\n",
              "       ...,\n",
              "       [1.5675450e+07, 0.0000000e+00, 1.8830000e+01, ..., 2.0000000e+00,\n",
              "        1.0000000e+02, 1.0000000e+00],\n",
              "       [1.5776494e+07, 0.0000000e+00, 2.7420000e+01, ..., 2.0000000e+00,\n",
              "        1.2000000e+02, 1.2000000e+01],\n",
              "       [1.5592412e+07, 1.0000000e+00, 4.1000000e+01, ..., 1.0000000e+00,\n",
              "        5.6000000e+02, 1.0000000e+00]])"
            ]
          },
          "execution_count": 7,
          "metadata": {},
          "output_type": "execute_result"
        }
      ],
      "source": [
        "X "
      ]
    },
    {
      "cell_type": "markdown",
      "metadata": {
        "colab_type": "text",
        "id": "fYHJ0dd6n-d4"
      },
      "source": [
        "## Feature Scaling\n"
      ]
    },
    {
      "cell_type": "code",
      "execution_count": 8,
      "metadata": {
        "colab": {},
        "colab_type": "code",
        "id": "sY7JiUxwoSOd"
      },
      "outputs": [],
      "source": [
        "from sklearn.preprocessing import MinMaxScaler\n",
        "sc = MinMaxScaler(feature_range = (0,1))\n",
        "X = sc.fit_transform(X)"
      ]
    },
    {
      "cell_type": "markdown",
      "metadata": {
        "colab_type": "text",
        "id": "aPp-7wfNoAhR"
      },
      "source": [
        "## Training the SOM\n"
      ]
    },
    {
      "cell_type": "code",
      "execution_count": 19,
      "metadata": {
        "colab": {},
        "colab_type": "code",
        "id": "3iuAhM6ooS0k"
      },
      "outputs": [
        {
          "data": {
            "text/plain": [
              "<minisom.MiniSom at 0x23bd8afe1a0>"
            ]
          },
          "execution_count": 19,
          "metadata": {},
          "output_type": "execute_result"
        }
      ],
      "source": [
        "from minisom import MiniSom\n",
        "som = MiniSom(x=10, y=10, input_len= 15, sigma= 1.0, learning_rate = 0.5)\n",
        "som"
      ]
    },
    {
      "cell_type": "markdown",
      "metadata": {},
      "source": [
        "\n",
        "1. `x` and `y`: These parameters specify the dimensions of the SOM grid. The SOM grid will have a size of `x` by `y` nodes. In this case, `x=10` and `y=10`, indicating that the SOM grid will have 10 rows and 10 columns, resulting in a total of 100 nodes.\n",
        "\n",
        "2. `input_len`: This parameter specifies the dimensionality of the input data. It indicates the number of features or dimensions in each input vector. In this case, `input_len=15`, suggesting that each input vector provided to the SOM during training will have 15 features.\n",
        "\n",
        "3. `sigma`: This parameter controls the spread of the neighborhood function during the training process. It determines the size of the neighborhood around the winning node within which the weights of neighboring nodes are adjusted. A higher value of `sigma` results in a larger neighborhood and vice versa. Here, `sigma=1.0` indicates a moderate spread.\n",
        "\n",
        "4. `learning_rate`: This parameter determines the magnitude of weight updates during training. It specifies the initial learning rate, which typically decreases over time as training progresses. A higher value of `learning_rate` results in more significant weight updates initially. In this case, `learning_rate=0.5`, indicating a moderate learning rate.\n",
        "\n"
      ]
    },
    {
      "cell_type": "code",
      "execution_count": 20,
      "metadata": {},
      "outputs": [],
      "source": [
        "som.random_weights_init(X)\n",
        "som.train_random(data = X, num_iteration = 100)"
      ]
    },
    {
      "cell_type": "code",
      "execution_count": 21,
      "metadata": {},
      "outputs": [
        {
          "data": {
            "text/plain": [
              "(10, 10)"
            ]
          },
          "execution_count": 21,
          "metadata": {},
          "output_type": "execute_result"
        }
      ],
      "source": [
        "som.distance_map().shape"
      ]
    },
    {
      "cell_type": "markdown",
      "metadata": {
        "colab_type": "text",
        "id": "YiU27C-ToCnH"
      },
      "source": [
        "## Visualizing the results\n"
      ]
    },
    {
      "cell_type": "code",
      "execution_count": 23,
      "metadata": {
        "colab": {},
        "colab_type": "code",
        "id": "XzrIX4fZoTQj"
      },
      "outputs": [
        {
          "data": {
            "text/plain": [
              "<Figure size 640x480 with 0 Axes>"
            ]
          },
          "metadata": {},
          "output_type": "display_data"
        }
      ],
      "source": [
        "from pylab import bone, pcolor, colorbar, plot, show\n",
        "bone()\n"
      ]
    },
    {
      "cell_type": "code",
      "execution_count": 26,
      "metadata": {},
      "outputs": [
        {
          "data": {
            "text/plain": [
              "<matplotlib.colorbar.Colorbar at 0x23bdc837ee0>"
            ]
          },
          "execution_count": 26,
          "metadata": {},
          "output_type": "execute_result"
        },
        {
          "data": {
            "image/png": "[encoded data removed]",
            "text/plain": [
              "<Figure size 640x480 with 2 Axes>"
            ]
          },
          "metadata": {},
          "output_type": "display_data"
        }
      ],
      "source": [
        "pcolor(som.distance_map().T)\n",
        "colorbar()\n"
      ]
    },
    {
      "cell_type": "code",
      "execution_count": 32,
      "metadata": {},
      "outputs": [
        {
          "data": {
            "text/plain": [
              "array([0.84268147, 1.        , 0.12526316, 0.40928571, 0.5       ,\n",
              "       0.23076923, 0.375     , 0.05561404, 0.        , 0.        ,\n",
              "       0.        , 1.        , 0.5       , 0.05      , 0.01212   ])"
            ]
          },
          "execution_count": 32,
          "metadata": {},
          "output_type": "execute_result"
        }
      ],
      "source": [
        "X[0]"
      ]
    },
    {
      "cell_type": "code",
      "execution_count": 35,
      "metadata": {},
      "outputs": [
        {
          "data": {
            "text/plain": [
              "(0, 1)"
            ]
          },
          "execution_count": 35,
          "metadata": {},
          "output_type": "execute_result"
        }
      ],
      "source": [
        "som.winner(X[5])"
      ]
    },
    {
      "cell_type": "code",
      "execution_count": 40,
      "metadata": {},
      "outputs": [
        {
          "data": {
            "text/plain": [
              "1"
            ]
          },
          "execution_count": 40,
          "metadata": {},
          "output_type": "execute_result"
        }
      ],
      "source": [
        "y[3]"
      ]
    },
    {
      "cell_type": "code",
      "execution_count": 41,
      "metadata": {},
      "outputs": [
        {
          "data": {
            "image/png": "[encoded data removed]",
            "text/plain": [
              "<Figure size 640x480 with 2 Axes>"
            ]
          },
          "metadata": {},
          "output_type": "display_data"
        }
      ],
      "source": [
        "pcolor(som.distance_map().T)\n",
        "colorbar()\n",
        "markers = ['o', 's']\n",
        "colors = ['r', 'g']\n",
        "for i, x in enumerate(X):\n",
        "    w = som.winner(x)\n",
        "    plot(w[0] + 0.5,\n",
        "         w[1] + 0.5,\n",
        "         markers[y[i]],\n",
        "         markeredgecolor = colors[y[i]],\n",
        "         markerfacecolor = 'None',\n",
        "         markersize = 10,\n",
        "         markeredgewidth = 2)\n",
        "show()"
      ]
    },
    {
      "cell_type": "markdown",
      "metadata": {},
      "source": [
        "### The white boxes indicate to outliers , so it's indicate to high probability to frauds also"
      ]
    },
    {
      "cell_type": "code",
      "execution_count": null,
      "metadata": {},
      "outputs": [],
      "source": []
    },
    {
      "cell_type": "markdown",
      "metadata": {
        "colab_type": "text",
        "id": "4C-I_jBfoEkP"
      },
      "source": [
        "## Finding the frauds\n"
      ]
    },
    {
      "cell_type": "code",
      "execution_count": 51,
      "metadata": {
        "colab": {},
        "colab_type": "code",
        "id": "4xd-jb8doTlM"
      },
      "outputs": [
        {
          "data": {
            "text/plain": [
              "[array([0.89857005, 1.        , 0.05639098, 0.78571429, 1.        ,\n",
              "        0.        , 0.75      , 0.        , 0.        , 0.        ,\n",
              "        0.        , 1.        , 1.        , 0.225     , 1.        ])]"
            ]
          },
          "execution_count": 51,
          "metadata": {},
          "output_type": "execute_result"
        }
      ],
      "source": [
        "mappings = som.win_map(X)\n",
        "mappings[(5,8)]"
      ]
    },
    {
      "cell_type": "code",
      "execution_count": 54,
      "metadata": {},
      "outputs": [],
      "source": [
        "frauds = np.concatenate((mappings[(5,8)], mappings[(3,7)]), axis = 0)\n",
        "frauds = sc.inverse_transform(frauds)"
      ]
    },
    {
      "cell_type": "code",
      "execution_count": 55,
      "metadata": {},
      "outputs": [
        {
          "data": {
            "text/plain": [
              "array([[1.5790113e+07, 1.0000000e+00, 1.7500000e+01, 2.2000000e+01,\n",
              "        3.0000000e+00, 1.0000000e+00, 7.0000000e+00, 0.0000000e+00,\n",
              "        0.0000000e+00, 0.0000000e+00, 0.0000000e+00, 1.0000000e+00,\n",
              "        3.0000000e+00, 4.5000000e+02, 1.0000100e+05],\n",
              "       [1.5644446e+07, 1.0000000e+00, 3.3500000e+01, 1.7500000e+00,\n",
              "        2.0000000e+00, 1.4000000e+01, 8.0000000e+00, 4.5000000e+00,\n",
              "        1.0000000e+00, 1.0000000e+00, 4.0000000e+00, 1.0000000e+00,\n",
              "        2.0000000e+00, 2.5300000e+02, 8.5800000e+02],\n",
              "       [1.5803378e+07, 1.0000000e+00, 3.4920000e+01, 5.0000000e+00,\n",
              "        2.0000000e+00, 1.4000000e+01, 8.0000000e+00, 7.5000000e+00,\n",
              "        1.0000000e+00, 1.0000000e+00, 6.0000000e+00, 1.0000000e+00,\n",
              "        2.0000000e+00, 0.0000000e+00, 1.0010000e+03],\n",
              "       [1.5714087e+07, 1.0000000e+00, 3.2750000e+01, 1.5000000e+00,\n",
              "        2.0000000e+00, 1.3000000e+01, 8.0000000e+00, 5.5000000e+00,\n",
              "        1.0000000e+00, 1.0000000e+00, 3.0000000e+00, 1.0000000e+00,\n",
              "        2.0000000e+00, 0.0000000e+00, 1.0000000e+00],\n",
              "       [1.5730793e+07, 1.0000000e+00, 2.7250000e+01, 1.5850000e+00,\n",
              "        2.0000000e+00, 1.3000000e+01, 8.0000000e+00, 1.8350000e+00,\n",
              "        1.0000000e+00, 1.0000000e+00, 1.2000000e+01, 1.0000000e+00,\n",
              "        2.0000000e+00, 5.8300000e+02, 7.1400000e+02],\n",
              "       [1.5788776e+07, 1.0000000e+00, 3.3170000e+01, 1.0000000e+00,\n",
              "        2.0000000e+00, 1.4000000e+01, 4.0000000e+00, 7.5000000e-01,\n",
              "        1.0000000e+00, 1.0000000e+00, 7.0000000e+00, 1.0000000e+00,\n",
              "        2.0000000e+00, 3.4000000e+02, 4.0720000e+03],\n",
              "       [1.5765257e+07, 1.0000000e+00, 2.2750000e+01, 1.1000000e+01,\n",
              "        2.0000000e+00, 1.1000000e+01, 4.0000000e+00, 2.5000000e+00,\n",
              "        1.0000000e+00, 1.0000000e+00, 7.0000000e+00, 1.0000000e+00,\n",
              "        2.0000000e+00, 1.0000000e+02, 8.1000000e+02],\n",
              "       [1.5654859e+07, 1.0000000e+00, 6.4080000e+01, 2.0000000e+01,\n",
              "        2.0000000e+00, 1.4000000e+01, 8.0000000e+00, 1.7500000e+01,\n",
              "        1.0000000e+00, 1.0000000e+00, 9.0000000e+00, 1.0000000e+00,\n",
              "        2.0000000e+00, 0.0000000e+00, 1.0010000e+03],\n",
              "       [1.5767231e+07, 1.0000000e+00, 2.4170000e+01, 8.7500000e-01,\n",
              "        2.0000000e+00, 1.1000000e+01, 4.0000000e+00, 4.6250000e+00,\n",
              "        1.0000000e+00, 1.0000000e+00, 2.0000000e+00, 1.0000000e+00,\n",
              "        2.0000000e+00, 5.2000000e+02, 2.0010000e+03],\n",
              "       [1.5746995e+07, 1.0000000e+00, 3.4750000e+01, 1.5000000e+01,\n",
              "        2.0000000e+00, 1.2000000e+01, 7.0000000e+00, 5.3750000e+00,\n",
              "        1.0000000e+00, 1.0000000e+00, 9.0000000e+00, 1.0000000e+00,\n",
              "        2.0000000e+00, 0.0000000e+00, 1.3500000e+02],\n",
              "       [1.5762716e+07, 1.0000000e+00, 3.4170000e+01, 1.5400000e+00,\n",
              "        2.0000000e+00, 1.3000000e+01, 4.0000000e+00, 1.5400000e+00,\n",
              "        1.0000000e+00, 1.0000000e+00, 1.0000000e+00, 1.0000000e+00,\n",
              "        2.0000000e+00, 5.2000000e+02, 5.0001000e+04],\n",
              "       [1.5706464e+07, 1.0000000e+00, 2.5080000e+01, 1.7100000e+00,\n",
              "        2.0000000e+00, 1.4000000e+01, 4.0000000e+00, 1.6650000e+00,\n",
              "        1.0000000e+00, 1.0000000e+00, 1.0000000e+00, 1.0000000e+00,\n",
              "        2.0000000e+00, 3.9500000e+02, 2.1000000e+01],\n",
              "       [1.5725028e+07, 1.0000000e+00, 6.5420000e+01, 1.1000000e+01,\n",
              "        2.0000000e+00, 1.0000000e+01, 9.0000000e+00, 2.0000000e+01,\n",
              "        1.0000000e+00, 1.0000000e+00, 7.0000000e+00, 1.0000000e+00,\n",
              "        2.0000000e+00, 2.2000000e+01, 1.0000000e+00],\n",
              "       [1.5768474e+07, 1.0000000e+00, 2.1920000e+01, 5.4000000e-01,\n",
              "        1.0000000e+00, 1.4000000e+01, 4.0000000e+00, 4.0000000e-02,\n",
              "        1.0000000e+00, 1.0000000e+00, 1.0000000e+00, 1.0000000e+00,\n",
              "        2.0000000e+00, 8.4000000e+02, 6.0000000e+01],\n",
              "       [1.5764444e+07, 1.0000000e+00, 3.9330000e+01, 5.8750000e+00,\n",
              "        2.0000000e+00, 1.3000000e+01, 8.0000000e+00, 1.0000000e+01,\n",
              "        1.0000000e+00, 1.0000000e+00, 1.4000000e+01, 1.0000000e+00,\n",
              "        2.0000000e+00, 3.9900000e+02, 1.0000000e+00],\n",
              "       [1.5731989e+07, 1.0000000e+00, 6.7750000e+01, 5.5000000e+00,\n",
              "        2.0000000e+00, 1.0000000e+01, 9.0000000e+00, 1.3000000e+01,\n",
              "        1.0000000e+00, 1.0000000e+00, 1.0000000e+00, 1.0000000e+00,\n",
              "        2.0000000e+00, 0.0000000e+00, 1.0000000e+00],\n",
              "       [1.5671534e+07, 1.0000000e+00, 3.2670000e+01, 5.5000000e+00,\n",
              "        2.0000000e+00, 1.1000000e+01, 8.0000000e+00, 5.5000000e+00,\n",
              "        1.0000000e+00, 1.0000000e+00, 1.2000000e+01, 1.0000000e+00,\n",
              "        2.0000000e+00, 4.0800000e+02, 1.0010000e+03],\n",
              "       [1.5771409e+07, 1.0000000e+00, 2.6670000e+01, 4.2500000e+00,\n",
              "        2.0000000e+00, 1.3000000e+01, 4.0000000e+00, 4.2900000e+00,\n",
              "        1.0000000e+00, 1.0000000e+00, 1.0000000e+00, 1.0000000e+00,\n",
              "        2.0000000e+00, 1.2000000e+02, 1.0000000e+00],\n",
              "       [1.5814116e+07, 1.0000000e+00, 4.2080000e+01, 1.0400000e+00,\n",
              "        2.0000000e+00, 9.0000000e+00, 4.0000000e+00, 5.0000000e+00,\n",
              "        1.0000000e+00, 1.0000000e+00, 6.0000000e+00, 1.0000000e+00,\n",
              "        2.0000000e+00, 5.0000000e+02, 1.0001000e+04],\n",
              "       [1.5777893e+07, 1.0000000e+00, 3.7750000e+01, 7.0000000e+00,\n",
              "        2.0000000e+00, 1.1000000e+01, 8.0000000e+00, 1.1500000e+01,\n",
              "        1.0000000e+00, 1.0000000e+00, 7.0000000e+00, 1.0000000e+00,\n",
              "        2.0000000e+00, 3.0000000e+02, 6.0000000e+00],\n",
              "       [1.5785705e+07, 1.0000000e+00, 5.9500000e+01, 2.7500000e+00,\n",
              "        2.0000000e+00, 9.0000000e+00, 4.0000000e+00, 1.7500000e+00,\n",
              "        1.0000000e+00, 1.0000000e+00, 5.0000000e+00, 1.0000000e+00,\n",
              "        2.0000000e+00, 6.0000000e+01, 5.9000000e+01],\n",
              "       [1.5667460e+07, 1.0000000e+00, 3.5170000e+01, 2.5125000e+01,\n",
              "        2.0000000e+00, 1.4000000e+01, 8.0000000e+00, 1.6250000e+00,\n",
              "        1.0000000e+00, 1.0000000e+00, 1.0000000e+00, 1.0000000e+00,\n",
              "        2.0000000e+00, 5.1500000e+02, 5.0100000e+02]])"
            ]
          },
          "execution_count": 55,
          "metadata": {},
          "output_type": "execute_result"
        }
      ],
      "source": [
        "frauds"
      ]
    },
    {
      "cell_type": "markdown",
      "metadata": {
        "colab_type": "text",
        "id": "frXqAlpo84b1"
      },
      "source": [
        "##Printing the Fraunch Clients"
      ]
    },
    {
      "cell_type": "code",
      "execution_count": 56,
      "metadata": {
        "colab": {
          "base_uri": "https://localhost:8080/",
          "height": 544
        },
        "colab_type": "code",
        "id": "54a4NnJo8761",
        "outputId": "1d7ae019-4598-4750-a64f-fdedfdc7fe48"
      },
      "outputs": [
        {
          "name": "stdout",
          "output_type": "stream",
          "text": [
            "Fraud Customer IDs\n",
            "15790113\n",
            "15644446\n",
            "15803378\n",
            "15714087\n",
            "15730793\n",
            "15788776\n",
            "15765257\n",
            "15654859\n",
            "15767231\n",
            "15746995\n",
            "15762716\n",
            "15706464\n",
            "15725028\n",
            "15768474\n",
            "15764444\n",
            "15731989\n",
            "15671534\n",
            "15771409\n",
            "15814116\n",
            "15777893\n",
            "15785705\n",
            "15667460\n"
          ]
        }
      ],
      "source": [
        "print('Fraud Customer IDs')\n",
        "for i in frauds[:, 0]:\n",
        "  print(int(i))"
      ]
    },
    {
      "cell_type": "code",
      "execution_count": null,
      "metadata": {},
      "outputs": [],
      "source": []
    }
  ],
  "metadata": {
    "colab": {
      "collapsed_sections": [],
      "name": "SOM.ipynb",
      "provenance": [],
      "toc_visible": true
    },
    "kernelspec": {
      "display_name": "Python 3",
      "name": "python3"
    },
    "language_info": {
      "codemirror_mode": {
        "name": "ipython",
        "version": 3
      },
      "file_extension": ".py",
      "mimetype": "text/x-python",
      "name": "python",
      "nbconvert_exporter": "python",
      "pygments_lexer": "ipython3",
      "version": "3.10.8"
    }
  },
  "nbformat": 4,
  "nbformat_minor": 0
}
